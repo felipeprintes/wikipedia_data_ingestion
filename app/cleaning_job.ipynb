{
 "cells": [
  {
   "cell_type": "code",
   "execution_count": 138,
   "id": "4b2f4476-ea55-454b-8521-348132a8a798",
   "metadata": {},
   "outputs": [],
   "source": [
    "from pyspark.sql import SparkSession\n",
    "from pyspark.sql.types import StructType,StructField, StringType, IntegerType,BooleanType,DoubleType\n",
    "from pyspark.sql.functions import col, explode, flatten, concat, substring, lit, to_date\n",
    "\n",
    "spark = SparkSession.builder \\\n",
    "    .master(\"local[*]\") \\\n",
    "    .appName(\"Wikipedia-cleaning\") \\\n",
    "    .getOrCreate()"
   ]
  },
  {
   "cell_type": "markdown",
   "id": "3928d42a-03d8-42d1-9f4d-864105a4e12d",
   "metadata": {},
   "source": [
    "## Article Length"
   ]
  },
  {
   "cell_type": "code",
   "execution_count": null,
   "id": "e407e5ce-e131-4637-b631-56172fd936d4",
   "metadata": {},
   "outputs": [],
   "source": [
    "path = \"lake/landing/articles_length.json\"\n",
    "df_articles_length = spark.read.json(path)"
   ]
  },
  {
   "cell_type": "code",
   "execution_count": 30,
   "id": "d9525156-739c-4386-8f5b-78c038001887",
   "metadata": {},
   "outputs": [],
   "source": [
    "df_flatten = df_articles_length.select(\n",
    "    col(\"query.pages.`31113163`.pageid\").alias(\"pageid\"),\n",
    "    col(\"query.pages.`31113163`.ns\").alias(\"namespace\"),\n",
    "    col(\"query.pages.`31113163`.title\").alias(\"title\"),\n",
    "    col(\"query.pages.`31113163`.contentmodel\").alias(\"content_model\"),\n",
    "    col(\"query.pages.`31113163`.pagelanguage\").alias(\"page_language\"),\n",
    "    col(\"query.pages.`31113163`.pagelanguagehtmlcode\").alias(\"page_language_html_code\"),\n",
    "    col(\"query.pages.`31113163`.pagelanguagedir\").alias(\"page_language_dir\"),\n",
    "    col(\"query.pages.`31113163`.touched\").alias(\"touched\"),\n",
    "    col(\"query.pages.`31113163`.lastrevid\").alias(\"last_revision_id\"),\n",
    "    col(\"query.pages.`31113163`.length\").alias(\"length\")\n",
    ")"
   ]
  },
  {
   "cell_type": "code",
   "execution_count": 33,
   "id": "9a1f8689-b6e0-4516-82c7-338a72564ca4",
   "metadata": {},
   "outputs": [],
   "source": [
    "write_path = \"lake/cleaning/articles_length/\"\n",
    "df_flatten.write.mode('overwrite').parquet(write_path)"
   ]
  },
  {
   "cell_type": "markdown",
   "id": "29c77d0c-f4fe-4d38-89e4-071159df7a61",
   "metadata": {},
   "source": [
    "## contributors by language"
   ]
  },
  {
   "cell_type": "code",
   "execution_count": 91,
   "id": "3a16150b-055c-4e0c-a473-15519677b800",
   "metadata": {},
   "outputs": [],
   "source": [
    "path_contributors = \"lake/landing/contributors_by_language.json\"\n",
    "df_contributors = spark.read.json(path_contributors)\n",
    "df_contributors = df_contributors.select(explode(\"values\"))"
   ]
  },
  {
   "cell_type": "code",
   "execution_count": 93,
   "id": "34a5932e-f553-4188-a265-f0fe760defac",
   "metadata": {},
   "outputs": [],
   "source": [
    "df_contributors_final = df_contributors.select(\n",
    "    col(\"col\")[0].alias(\"language\"),\n",
    "    col(\"col\")[1].alias(\"count\")\n",
    ")"
   ]
  },
  {
   "cell_type": "code",
   "execution_count": 95,
   "id": "3d821bc6-afb3-430c-9711-8ffb31717997",
   "metadata": {},
   "outputs": [],
   "source": [
    "write_path = \"lake/cleaning/contributors_by_languade/\"\n",
    "df_contributors_final.write.mode('overwrite').parquet(write_path)"
   ]
  },
  {
   "cell_type": "markdown",
   "id": "4a79ad1d-6666-46c8-8b21-bbba972fd57b",
   "metadata": {},
   "source": [
    "## Reviews"
   ]
  },
  {
   "cell_type": "code",
   "execution_count": null,
   "id": "6e40a6f1-e32d-4ca8-b0f0-279d7e9efe0f",
   "metadata": {},
   "outputs": [],
   "source": [
    "path_reviews = \"lake/landing/reviews.json\"\n",
    "df_reviews = spark.read.json(path_reviews)"
   ]
  },
  {
   "cell_type": "code",
   "execution_count": null,
   "id": "85437975-e906-4c14-89d3-0323978e0bc5",
   "metadata": {},
   "outputs": [],
   "source": [
    "df_reviews=df_reviews.select(\"query.pages.31113163.*\")"
   ]
  },
  {
   "cell_type": "code",
   "execution_count": 119,
   "id": "a0c072fd-12a7-4e9d-a791-061bcfe8e409",
   "metadata": {},
   "outputs": [],
   "source": [
    "df_exploded = df_reviews.select(explode(\"revisions\").alias(\"revisions\"))"
   ]
  },
  {
   "cell_type": "code",
   "execution_count": 126,
   "id": "2e9e41ac-d92a-44f0-886b-dafd08163493",
   "metadata": {},
   "outputs": [],
   "source": [
    "df_reviews_final = df_exploded.select(\n",
    "    col(\"revisions.anon\").alias(\"anon\"),\n",
    "    col(\"revisions.comment\").alias(\"comment\"),\n",
    "    col(\"revisions.minor\").alias(\"minor\"),\n",
    "    col(\"revisions.parentid\").alias(\"parentid\"),\n",
    "    col(\"revisions.revid\").alias(\"revid\"),\n",
    "    col(\"revisions.timestamp\").alias(\"timestamp\"),\n",
    "    col(\"revisions.user\").alias(\"user\"),\n",
    ")\n",
    "\n",
    "write_path = \"lake/cleaning/reviews/\"\n",
    "df_reviews_final.write.mode('overwrite').parquet(write_path)"
   ]
  },
  {
   "cell_type": "markdown",
   "id": "33c27a48-5f64-43e4-9619-54f35d6f1e33",
   "metadata": {},
   "source": [
    "## Statistic Page"
   ]
  },
  {
   "cell_type": "code",
   "execution_count": null,
   "id": "70467158-4eba-4e3f-873f-a1133ab4f384",
   "metadata": {},
   "outputs": [],
   "source": [
    "path_reviews = \"lake/landing/statistic_page.json\"\n",
    "df_statistic = spark.read.json(path_reviews)"
   ]
  },
  {
   "cell_type": "code",
   "execution_count": null,
   "id": "ee8f842b-57f2-4afe-bedc-ee31ca8230e8",
   "metadata": {},
   "outputs": [],
   "source": [
    "df_statistic_exploded = df_statistic.select(explode(\"items\").alias(\"items\"))"
   ]
  },
  {
   "cell_type": "code",
   "execution_count": 144,
   "id": "81bb12f8-e8cc-47f2-b475-25e8a84002e6",
   "metadata": {},
   "outputs": [],
   "source": [
    "df_statistic_final = df_statistic_exploded.select(\n",
    "    col(\"items.access\").alias(\"access\"),\n",
    "    col(\"items.agent\").alias(\"agent\"),\n",
    "    col(\"items.article\").alias(\"article\"),\n",
    "    col(\"items.granularity\").alias(\"granularity\"),\n",
    "    col(\"items.project\").alias(\"project\"),\n",
    "    to_date(col(\"items.timestamp\").substr(1, 8), \"yyyyMMdd\").alias(\"formatted_access_date\"),\n",
    "    col(\"items.views\").alias(\"views\")\n",
    ")\n",
    "\n",
    "write_path = \"lake/cleaning/statistic_page/\"\n",
    "df_statistic_final.write.mode('overwrite').parquet(write_path)"
   ]
  },
  {
   "cell_type": "code",
   "execution_count": null,
   "id": "72ec7431-bfee-4aa8-a2da-d1a5c5a49675",
   "metadata": {},
   "outputs": [],
   "source": []
  },
  {
   "cell_type": "code",
   "execution_count": null,
   "id": "25017251-2bee-4f08-954d-c81a376c3e46",
   "metadata": {},
   "outputs": [],
   "source": []
  },
  {
   "cell_type": "code",
   "execution_count": null,
   "id": "0f87fda3-e7fb-4da9-9661-9c30a75acbcc",
   "metadata": {},
   "outputs": [],
   "source": []
  },
  {
   "cell_type": "code",
   "execution_count": null,
   "id": "4a266a81-061c-493e-99ce-43cb49979ea1",
   "metadata": {},
   "outputs": [],
   "source": []
  },
  {
   "cell_type": "code",
   "execution_count": null,
   "id": "0a04e93e-e84f-476e-bb1e-a21d149bfc64",
   "metadata": {},
   "outputs": [],
   "source": []
  }
 ],
 "metadata": {
  "kernelspec": {
   "display_name": "Python 3 (ipykernel)",
   "language": "python",
   "name": "python3"
  },
  "language_info": {
   "codemirror_mode": {
    "name": "ipython",
    "version": 3
   },
   "file_extension": ".py",
   "mimetype": "text/x-python",
   "name": "python",
   "nbconvert_exporter": "python",
   "pygments_lexer": "ipython3",
   "version": "3.12.2"
  }
 },
 "nbformat": 4,
 "nbformat_minor": 5
}
